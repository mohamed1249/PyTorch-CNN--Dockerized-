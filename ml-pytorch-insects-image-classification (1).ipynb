{
 "cells": [
  {
   "cell_type": "code",
   "execution_count": 1,
   "metadata": {
    "_cell_guid": "b1076dfc-b9ad-4769-8c92-a6c4dae69d19",
    "_uuid": "8f2839f25d086af736a60e9eeb907d3b93b6e0e5"
   },
   "outputs": [],
   "source": [
    "import torch\n",
    "import torch.nn as nn\n",
    "import torch.nn.functional as F\n",
    "from torch.utils.data import DataLoader\n",
    "from torch.utils.data import Dataset\n",
    "from torch.utils.data import random_split\n",
    "from torchvision import datasets, transforms\n",
    "from torchvision.utils import make_grid\n",
    "\n",
    "import os\n",
    "import numpy as np\n",
    "import pandas as pd\n",
    "from sklearn.metrics import confusion_matrix\n",
    "import matplotlib.pyplot as plt\n",
    "%matplotlib inline\n",
    "from PIL import Image"
   ]
  },
  {
   "cell_type": "code",
   "execution_count": 2,
   "metadata": {},
   "outputs": [
    {
     "name": "stdout",
     "output_type": "stream",
     "text": [
      "Using device: cpu\n"
     ]
    }
   ],
   "source": [
    "if torch.cuda.is_available():\n",
    "    device = torch.device('cuda')\n",
    "else:\n",
    "    device = torch.device('cpu')\n",
    "print(f'Using device: {device}')"
   ]
  },
  {
   "cell_type": "code",
   "execution_count": 3,
   "metadata": {},
   "outputs": [],
   "source": [
    "dct = {}\n",
    "for folder in os.listdir('insects'):\n",
    "    dct[folder] = len(os.listdir(os.path.join('insects',folder)))"
   ]
  },
  {
   "cell_type": "code",
   "execution_count": 4,
   "metadata": {},
   "outputs": [
    {
     "data": {
      "text/plain": [
       "Pissodes strobi (Peck)      168\n",
       "Helicoverpa zea (Boddie)    154\n",
       "dtype: int64"
      ]
     },
     "execution_count": 4,
     "metadata": {},
     "output_type": "execute_result"
    }
   ],
   "source": [
    "pd.Series(dct).sort_values(ascending=False).head(2)"
   ]
  },
  {
   "cell_type": "code",
   "execution_count": 5,
   "metadata": {},
   "outputs": [
    {
     "data": {
      "text/plain": [
       "322"
      ]
     },
     "execution_count": 5,
     "metadata": {},
     "output_type": "execute_result"
    }
   ],
   "source": [
    "pd.Series(dct).sort_values(ascending=False).head(2).sum()"
   ]
  },
  {
   "cell_type": "code",
   "execution_count": 6,
   "metadata": {},
   "outputs": [
    {
     "data": {
      "text/plain": [
       "2273"
      ]
     },
     "execution_count": 6,
     "metadata": {},
     "output_type": "execute_result"
    }
   ],
   "source": [
    "label_set = os.listdir('insects')\n",
    "len(label_set)"
   ]
  },
  {
   "cell_type": "code",
   "execution_count": 7,
   "metadata": {},
   "outputs": [],
   "source": [
    "def encode_y(y, dct = {label : enc for label, enc in zip(label_set, range(len(label_set)))}):\n",
    "    print(f'{y} : {dct[y]}')\n",
    "    return str(dct[y])"
   ]
  },
  {
   "cell_type": "code",
   "execution_count": 8,
   "metadata": {},
   "outputs": [
    {
     "name": "stdout",
     "output_type": "stream",
     "text": [
      "Pissodes strobi (Peck) : 1738\n",
      "Helicoverpa zea (Boddie) : 1070\n",
      "Successfully copied subdirectories from insects to selected_insects\n"
     ]
    }
   ],
   "source": [
    "import shutil\n",
    "\n",
    "try:\n",
    "    directory_path = \"selected_insects\"\n",
    "    for item in os.listdir(directory_path):\n",
    "        item_path = os.path.join(directory_path, item)\n",
    "        if os.path.isfile(item_path):\n",
    "            os.remove(item_path)  # Delete files using os.remove()\n",
    "        elif os.path.isdir(item_path):\n",
    "            shutil.rmtree(item_path)  # Delete subdirectories recursively using shutil.rmtree()\n",
    "except: pass\n",
    "\n",
    "\n",
    "source_dir = \"insects\"\n",
    "destination_dir = \"selected_insects\"\n",
    "\n",
    "# Create the new folder (if it doesn't exist)\n",
    "os.makedirs(destination_dir, exist_ok=True)  # Handles existing folders\n",
    "\n",
    "\n",
    "subdirectories = pd.Series(dct).sort_values(ascending=False).head(2).index\n",
    "\n",
    "# Copy each subdirectory to the new folder\n",
    "for subdirectory in subdirectories:\n",
    "    source_subdir = os.path.join(source_dir, subdirectory)\n",
    "    dest_subdir = os.path.join(destination_dir, encode_y(subdirectory))\n",
    "    shutil.copytree(source_subdir, dest_subdir)\n",
    "\n",
    "print(f\"Successfully copied subdirectories from {source_dir} to {destination_dir}\")"
   ]
  },
  {
   "cell_type": "code",
   "execution_count": 9,
   "metadata": {},
   "outputs": [],
   "source": [
    "class ImageFolderWithLabels(Dataset):\n",
    "    def __init__(self, data_dir, transform=None):\n",
    "        self.data_dir = data_dir\n",
    "        self.image_paths = [os.path.join(root, filename) for root, _, filenames in os.walk(data_dir) for filename in filenames if filename.lower().endswith((\".jpg\", \".jpeg\", \".png\"))]\n",
    "        self.transform = transform\n",
    "\n",
    "    def __len__(self):\n",
    "        return len(self.image_paths)\n",
    "\n",
    "    def __getitem__(self, idx):\n",
    "        image_path = self.image_paths[idx]\n",
    "        label = int(os.path.basename(os.path.dirname(image_path)))  # Extract label from directory name\n",
    "        image = Image.open(image_path).convert('RGB')  # Assuming RGB images\n",
    "        if self.transform:\n",
    "            image = self.transform(image)\n",
    "        return image, label"
   ]
  },
  {
   "cell_type": "code",
   "execution_count": 10,
   "metadata": {},
   "outputs": [],
   "source": [
    "image_size = 224\n",
    "\n",
    "transform = transforms.Compose([\n",
    "    transforms.Resize(image_size),  # Resize all images to the specified size\n",
    "    transforms.ToTensor(),  # Convert image to PyTorch tensor\n",
    "    transforms.Normalize(mean=(0.485, 0.456, 0.406), std=(0.229, 0.224, 0.225)),  # Normalize pixel values\n",
    "    # Optionally add random cropping for data augmentation\n",
    "    transforms.RandomCrop(image_size)\n",
    "])\n",
    "\n",
    "dataset = ImageFolderWithLabels('selected_insects', transform=transform)"
   ]
  },
  {
   "cell_type": "code",
   "execution_count": 11,
   "metadata": {},
   "outputs": [],
   "source": [
    "test_size = 0.2\n",
    "train_size = 1 - test_size\n",
    "batch_size = 2\n",
    "train_dataset, test_dataset = random_split(dataset, lengths=[int(len(dataset) * train_size), len(dataset) - int(len(dataset) * train_size)])"
   ]
  },
  {
   "cell_type": "code",
   "execution_count": 12,
   "metadata": {},
   "outputs": [],
   "source": [
    "train_dataloader = torch.utils.data.DataLoader(train_dataset, batch_size=batch_size, shuffle=True)\n",
    "test_dataloader = torch.utils.data.DataLoader(test_dataset, batch_size=batch_size, shuffle=False)"
   ]
  },
  {
   "cell_type": "code",
   "execution_count": 13,
   "metadata": {},
   "outputs": [],
   "source": [
    "# Define Our CNN Model\n",
    "# Describe convolutional layer and what it's doing (2 convolutional layers)\n",
    "conv1 = nn.Conv2d(3, 6, 3, 1)\n",
    "conv2 = nn.Conv2d(6, 16, 3, 1)"
   ]
  },
  {
   "cell_type": "code",
   "execution_count": 14,
   "metadata": {},
   "outputs": [
    {
     "data": {
      "text/plain": [
       "torch.Size([3, 224, 224])"
      ]
     },
     "execution_count": 14,
     "metadata": {},
     "output_type": "execute_result"
    }
   ],
   "source": [
    "for i, (X_Train, y_train) in enumerate(train_dataset):\n",
    "  break\n",
    "X_Train.shape"
   ]
  },
  {
   "cell_type": "code",
   "execution_count": 15,
   "metadata": {},
   "outputs": [],
   "source": [
    "x = X_Train.view(1, 3, 224, 224)"
   ]
  },
  {
   "cell_type": "code",
   "execution_count": 16,
   "metadata": {},
   "outputs": [
    {
     "data": {
      "text/plain": [
       "torch.Size([1, 6, 222, 222])"
      ]
     },
     "execution_count": 16,
     "metadata": {},
     "output_type": "execute_result"
    }
   ],
   "source": [
    "x = F.relu(conv1(x))\n",
    "x.shape"
   ]
  },
  {
   "cell_type": "code",
   "execution_count": 17,
   "metadata": {},
   "outputs": [
    {
     "data": {
      "text/plain": [
       "torch.Size([1, 6, 111, 111])"
      ]
     },
     "execution_count": 17,
     "metadata": {},
     "output_type": "execute_result"
    }
   ],
   "source": [
    "x = F.max_pool2d(x,2,2)\n",
    "x.shape"
   ]
  },
  {
   "cell_type": "code",
   "execution_count": 18,
   "metadata": {},
   "outputs": [
    {
     "data": {
      "text/plain": [
       "torch.Size([1, 16, 109, 109])"
      ]
     },
     "execution_count": 18,
     "metadata": {},
     "output_type": "execute_result"
    }
   ],
   "source": [
    "x = F.relu(conv2(x))\n",
    "x.shape"
   ]
  },
  {
   "cell_type": "code",
   "execution_count": 19,
   "metadata": {},
   "outputs": [
    {
     "data": {
      "text/plain": [
       "torch.Size([1, 16, 54, 54])"
      ]
     },
     "execution_count": 19,
     "metadata": {},
     "output_type": "execute_result"
    }
   ],
   "source": [
    "x = F.max_pool2d(x,2,2)\n",
    "x.shape"
   ]
  },
  {
   "cell_type": "code",
   "execution_count": 20,
   "metadata": {},
   "outputs": [],
   "source": [
    "ns = 16* 54* 54"
   ]
  },
  {
   "cell_type": "code",
   "execution_count": 21,
   "metadata": {},
   "outputs": [
    {
     "data": {
      "text/plain": [
       "2"
      ]
     },
     "execution_count": 21,
     "metadata": {},
     "output_type": "execute_result"
    }
   ],
   "source": [
    "label_set = os.listdir('selected_insects')\n",
    "len(label_set)"
   ]
  },
  {
   "cell_type": "code",
   "execution_count": 22,
   "metadata": {},
   "outputs": [
    {
     "data": {
      "text/plain": [
       "322"
      ]
     },
     "execution_count": 22,
     "metadata": {},
     "output_type": "execute_result"
    }
   ],
   "source": [
    "len(dataset)"
   ]
  },
  {
   "cell_type": "code",
   "execution_count": 23,
   "metadata": {},
   "outputs": [],
   "source": [
    "# Model Class\n",
    "class ConvolutionalNetwork(nn.Module):\n",
    "  def __init__(self):\n",
    "    super().__init__()\n",
    "    self.conv1 = nn.Conv2d(3, 6, 3, 1)\n",
    "    self.conv2 = nn.Conv2d(6,16,3,1)\n",
    "    # Fully Connected Layer\n",
    "    self.fc1 = nn.Linear(ns, 256)\n",
    "    self.fc2 = nn.Linear(256, 256)\n",
    "    self.fc3 = nn.Linear(256, len(label_set))\n",
    "\n",
    "  def forward(self, X):\n",
    "    X = F.relu(self.conv1(X))\n",
    "    X = F.max_pool2d(X,2,2) # 2x2 kernal and stride 2\n",
    "    # Second Pass\n",
    "    X = F.relu(self.conv2(X))\n",
    "    X = F.max_pool2d(X,2,2) # 2x2 kernal and stride 2\n",
    "\n",
    "    # Re-View to flatten it out\n",
    "    X = X.view(-1, ns) # negative one so that we can vary the batch size\n",
    "\n",
    "    # Fully Connected Layers\n",
    "    X = F.relu(self.fc1(X))\n",
    "    X = F.relu(self.fc2(X))\n",
    "    X = self.fc3(X)\n",
    "    return F.log_softmax(X, dim=1)"
   ]
  },
  {
   "cell_type": "code",
   "execution_count": 24,
   "metadata": {},
   "outputs": [
    {
     "data": {
      "text/plain": [
       "ConvolutionalNetwork(\n",
       "  (conv1): Conv2d(3, 6, kernel_size=(3, 3), stride=(1, 1))\n",
       "  (conv2): Conv2d(6, 16, kernel_size=(3, 3), stride=(1, 1))\n",
       "  (fc1): Linear(in_features=46656, out_features=256, bias=True)\n",
       "  (fc2): Linear(in_features=256, out_features=256, bias=True)\n",
       "  (fc3): Linear(in_features=256, out_features=2, bias=True)\n",
       ")"
      ]
     },
     "execution_count": 24,
     "metadata": {},
     "output_type": "execute_result"
    }
   ],
   "source": [
    "torch.manual_seed(41)\n",
    "model = ConvolutionalNetwork()\n",
    "model.to(device)\n",
    "model"
   ]
  },
  {
   "cell_type": "code",
   "execution_count": 25,
   "metadata": {},
   "outputs": [],
   "source": [
    "criterion = nn.CrossEntropyLoss()\n",
    "optimizer = torch.optim.Adam(model.parameters(), lr=0.1) # Smaller the Learning Rate, longer its gonna take to train."
   ]
  },
  {
   "cell_type": "code",
   "execution_count": 26,
   "metadata": {},
   "outputs": [],
   "source": [
    "def encode_y(y, dct = {label : enc for label, enc in zip(label_set, range(len(label_set)))}):\n",
    "    encs = []\n",
    "    for label in y:\n",
    "        encs.append(dct[str(label)])\n",
    "    return  torch.tensor(encs, dtype=torch.long)"
   ]
  },
  {
   "cell_type": "code",
   "execution_count": 27,
   "metadata": {},
   "outputs": [
    {
     "name": "stdout",
     "output_type": "stream",
     "text": [
      "Epoch: 0  Batch: 15  Loss: 3.5762659535976127e-06\n",
      "Epoch: 0  Batch: 30  Loss: 1.6686921119689941\n",
      "Epoch: 0  Batch: 45  Loss: 5.015833377838135\n",
      "Epoch: 0  Batch: 60  Loss: 0.7644631862640381\n",
      "Epoch: 0  Batch: 75  Loss: 0.6962040662765503\n",
      "Epoch: 0  Batch: 90  Loss: 0.9506651759147644\n",
      "Epoch: 0  Batch: 105  Loss: 0.6931768655776978\n",
      "Epoch: 0  Batch: 120  Loss: 0.7072827219963074\n",
      "Epoch: 1  Batch: 15  Loss: 0.5774755477905273\n",
      "Epoch: 1  Batch: 30  Loss: 0.6319498419761658\n",
      "Epoch: 1  Batch: 45  Loss: 0.7077175974845886\n",
      "Epoch: 1  Batch: 60  Loss: 1.1113327741622925\n",
      "Epoch: 1  Batch: 75  Loss: 0.6903539299964905\n",
      "Epoch: 1  Batch: 90  Loss: 0.7798898220062256\n",
      "Epoch: 1  Batch: 105  Loss: 0.7660588622093201\n",
      "Epoch: 1  Batch: 120  Loss: 0.6574403047561646\n",
      "Epoch: 2  Batch: 15  Loss: 0.8965315222740173\n",
      "Epoch: 2  Batch: 30  Loss: 0.886214017868042\n",
      "Epoch: 2  Batch: 45  Loss: 0.46936142444610596\n",
      "Epoch: 2  Batch: 60  Loss: 1.276047706604004\n",
      "Epoch: 2  Batch: 75  Loss: 0.6448423862457275\n",
      "Epoch: 2  Batch: 90  Loss: 0.34860315918922424\n",
      "Epoch: 2  Batch: 105  Loss: 0.7176059484481812\n",
      "Epoch: 2  Batch: 120  Loss: 0.6970705986022949\n",
      "Epoch: 3  Batch: 15  Loss: 0.8021079301834106\n",
      "Epoch: 3  Batch: 30  Loss: 1.290643572807312\n",
      "Epoch: 3  Batch: 45  Loss: 1.1488679647445679\n",
      "Epoch: 3  Batch: 60  Loss: 0.693500280380249\n",
      "Epoch: 3  Batch: 75  Loss: 0.7196837663650513\n",
      "Epoch: 3  Batch: 90  Loss: 0.8063084483146667\n",
      "Epoch: 3  Batch: 105  Loss: 0.6934325695037842\n",
      "Epoch: 3  Batch: 120  Loss: 0.7269898056983948\n",
      "Epoch: 4  Batch: 15  Loss: 0.7684212327003479\n",
      "Epoch: 4  Batch: 30  Loss: 0.845470130443573\n",
      "Epoch: 4  Batch: 45  Loss: 0.9097029566764832\n",
      "Epoch: 4  Batch: 60  Loss: 0.6958058476448059\n",
      "Epoch: 4  Batch: 75  Loss: 0.8056325912475586\n",
      "Epoch: 4  Batch: 90  Loss: 0.6727269887924194\n",
      "Epoch: 4  Batch: 105  Loss: 0.9525094032287598\n",
      "Epoch: 4  Batch: 120  Loss: 1.0742080211639404\n",
      "Epoch: 5  Batch: 15  Loss: 0.6312963366508484\n",
      "Epoch: 5  Batch: 30  Loss: 0.7038693428039551\n",
      "Epoch: 5  Batch: 45  Loss: 0.4514622986316681\n",
      "Epoch: 5  Batch: 60  Loss: 0.4940846562385559\n",
      "Epoch: 5  Batch: 75  Loss: 0.6504648327827454\n",
      "Epoch: 5  Batch: 90  Loss: 0.8198542594909668\n",
      "Epoch: 5  Batch: 105  Loss: 0.6971152424812317\n",
      "Epoch: 5  Batch: 120  Loss: 0.5244705080986023\n",
      "Epoch: 6  Batch: 15  Loss: 0.7087467312812805\n",
      "Epoch: 6  Batch: 30  Loss: 0.7124359607696533\n",
      "Epoch: 6  Batch: 45  Loss: 0.7412537932395935\n",
      "Epoch: 6  Batch: 60  Loss: 0.5819475650787354\n",
      "Epoch: 6  Batch: 75  Loss: 0.7216545939445496\n",
      "Epoch: 6  Batch: 90  Loss: 0.7131317853927612\n",
      "Epoch: 6  Batch: 105  Loss: 0.8058896064758301\n",
      "Epoch: 6  Batch: 120  Loss: 0.675287127494812\n",
      "Epoch: 7  Batch: 15  Loss: 0.7070660591125488\n",
      "Epoch: 7  Batch: 30  Loss: 0.8896518349647522\n",
      "Epoch: 7  Batch: 45  Loss: 0.7045925855636597\n",
      "Epoch: 7  Batch: 60  Loss: 0.6961194276809692\n",
      "Epoch: 7  Batch: 75  Loss: 0.7018156051635742\n",
      "Epoch: 7  Batch: 90  Loss: 1.1526575088500977\n",
      "Epoch: 7  Batch: 105  Loss: 1.2401069402694702\n",
      "Epoch: 7  Batch: 120  Loss: 0.7024357318878174\n",
      "Epoch: 8  Batch: 15  Loss: 0.5088393092155457\n",
      "Epoch: 8  Batch: 30  Loss: 0.6498006582260132\n",
      "Epoch: 8  Batch: 45  Loss: 0.2946057915687561\n",
      "Epoch: 8  Batch: 60  Loss: 0.6572787165641785\n",
      "Epoch: 8  Batch: 75  Loss: 0.6933292746543884\n",
      "Epoch: 8  Batch: 90  Loss: 0.6114635467529297\n",
      "Epoch: 8  Batch: 105  Loss: 0.5055215358734131\n",
      "Epoch: 8  Batch: 120  Loss: 0.7827597856521606\n",
      "Epoch: 9  Batch: 15  Loss: 0.7449958324432373\n",
      "Epoch: 9  Batch: 30  Loss: 0.705323338508606\n",
      "Epoch: 9  Batch: 45  Loss: 0.7459291219711304\n",
      "Epoch: 9  Batch: 60  Loss: 0.7532745599746704\n",
      "Epoch: 9  Batch: 75  Loss: 1.1828296184539795\n",
      "Epoch: 9  Batch: 90  Loss: 0.8423582315444946\n",
      "Epoch: 9  Batch: 105  Loss: 0.7615935206413269\n",
      "Epoch: 9  Batch: 120  Loss: 0.9920746088027954\n",
      "Training Took: 2.5276605407396953 minutes!\n"
     ]
    }
   ],
   "source": [
    "import time\n",
    "start_time = time.time()\n",
    "\n",
    "# Create Variables To Tracks Things\n",
    "epochs = 10\n",
    "train_losses = []\n",
    "test_losses = []\n",
    "train_correct = []\n",
    "test_correct = []\n",
    "\n",
    "# For Loop of Epochs\n",
    "for i in range(epochs):\n",
    "  trn_corr = 0\n",
    "  tst_corr = 0\n",
    "\n",
    "\n",
    "  # Train\n",
    "  for b,(X_train, y_train) in enumerate(train_dataloader):\n",
    "    b+=1 # start our batches at 1\n",
    "    y_train = encode_y((y_train.cpu().numpy()))  # Convert to long tensor for labels\n",
    "    X_train, y_train = X_train.to(device), y_train.to(device)\n",
    "    y_pred = model(X_train) # get predicted values from the training set. Not flattened 2D\n",
    "    loss = criterion(y_pred, y_train) # how off are we? Compare the predictions to correct answers in y_train\n",
    "\n",
    "    predicted = torch.max(y_pred.data, 1)[1] # add up the number of correct predictions. Indexed off the first point\n",
    "    batch_corr = (predicted == y_train).sum() # how many we got correct from this batch. True = 1, False=0, sum those up\n",
    "    trn_corr += batch_corr # keep track as we go along in training.\n",
    "\n",
    "    # Update our parameters\n",
    "    optimizer.zero_grad()\n",
    "    loss.backward()\n",
    "    optimizer.step()\n",
    "\n",
    "\n",
    "    # Print out some results\n",
    "    if b%15 == 0:\n",
    "      print(f'Epoch: {i}  Batch: {b}  Loss: {loss.item()}')\n",
    "\n",
    "  train_losses.append(loss)\n",
    "  train_correct.append(trn_corr)\n",
    "\n",
    "\n",
    "  # Test\n",
    "  with torch.no_grad(): #No gradient so we don't update our weights and biases with test data\n",
    "    for b,(X_test, y_test) in enumerate(test_dataloader):\n",
    "      y_test = encode_y((y_test.cpu().numpy()))  # Convert to long tensor for labels\n",
    "      X_test, y_test = X_test.to(device), y_test.to(device)\n",
    "      y_val = model(X_test)\n",
    "      predicted = torch.max(y_val.data, 1)[1] # Adding up correct predictions\n",
    "      tst_corr += (predicted == y_test).sum() # T=1 F=0 and sum away\n",
    "\n",
    "  loss = criterion(y_val, y_test)\n",
    "  test_losses.append(loss)\n",
    "  test_correct.append(tst_corr)\n",
    "\n",
    "current_time = time.time()\n",
    "total = current_time - start_time\n",
    "print(f'Training Took: {total/60} minutes!')"
   ]
  },
  {
   "cell_type": "code",
   "execution_count": 28,
   "metadata": {},
   "outputs": [
    {
     "data": {
      "text/plain": [
       "array([1], dtype=int64)"
      ]
     },
     "execution_count": 28,
     "metadata": {},
     "output_type": "execute_result"
    }
   ],
   "source": [
    "y_train.cpu().numpy()"
   ]
  },
  {
   "cell_type": "code",
   "execution_count": 29,
   "metadata": {},
   "outputs": [
    {
     "data": {
      "text/plain": [
       "tensor([1])"
      ]
     },
     "execution_count": 29,
     "metadata": {},
     "output_type": "execute_result"
    }
   ],
   "source": [
    "y_train"
   ]
  },
  {
   "cell_type": "code",
   "execution_count": 30,
   "metadata": {},
   "outputs": [
    {
     "data": {
      "text/plain": [
       "tensor([1])"
      ]
     },
     "execution_count": 30,
     "metadata": {},
     "output_type": "execute_result"
    }
   ],
   "source": [
    "torch.max(y_pred.data, 1)[1]"
   ]
  },
  {
   "cell_type": "code",
   "execution_count": 31,
   "metadata": {},
   "outputs": [
    {
     "data": {
      "image/png": "[encoded data removed]",
      "text/plain": [
       "<Figure size 432x288 with 1 Axes>"
      ]
     },
     "metadata": {
      "needs_background": "light"
     },
     "output_type": "display_data"
    }
   ],
   "source": [
    "# Graph the loss at epoch\n",
    "train_losses = [tl.cpu().detach().numpy() for tl in train_losses]\n",
    "plt.plot(train_losses, label=\"Training Loss\")\n",
    "plt.plot([t.cpu() for t in test_losses], label=\"Validation Loss\")\n",
    "plt.title(\"Loss at Epoch\")\n",
    "plt.legend();"
   ]
  },
  {
   "cell_type": "code",
   "execution_count": 32,
   "metadata": {},
   "outputs": [],
   "source": [
    "with torch.no_grad():\n",
    "  correct = 0\n",
    "  for X_test, y_test in test_dataloader:\n",
    "    X_test = X_test.to(device)\n",
    "    y_val = model(X_test)\n",
    "    predicted = torch.max(y_val, 1)[1]\n",
    "    correct += (predicted.cpu() == encode_y((y_test.cpu().numpy()))).sum()"
   ]
  },
  {
   "cell_type": "code",
   "execution_count": 33,
   "metadata": {},
   "outputs": [
    {
     "data": {
      "text/plain": [
       "96.96969696969697"
      ]
     },
     "execution_count": 33,
     "metadata": {},
     "output_type": "execute_result"
    }
   ],
   "source": [
    "correct.item()/len(test_dataloader)*100"
   ]
  },
  {
   "cell_type": "code",
   "execution_count": 34,
   "metadata": {},
   "outputs": [
    {
     "name": "stderr",
     "output_type": "stream",
     "text": [
      "Clipping input data to the valid range for imshow with RGB data ([0..1] for floats or [0..255] for integers).\n"
     ]
    },
    {
     "data": {
      "image/png": "[encoded data removed]",
      "text/plain": [
       "<Figure size 432x288 with 1 Axes>"
      ]
     },
     "metadata": {
      "needs_background": "light"
     },
     "output_type": "display_data"
    }
   ],
   "source": [
    "plt.imshow(np.transpose(dataset[1][0], (1, 2, 0)))\n",
    "plt.show()"
   ]
  },
  {
   "cell_type": "code",
   "execution_count": 35,
   "metadata": {},
   "outputs": [
    {
     "data": {
      "text/plain": [
       "1070"
      ]
     },
     "execution_count": 35,
     "metadata": {},
     "output_type": "execute_result"
    }
   ],
   "source": [
    "dataset[1][1]"
   ]
  },
  {
   "cell_type": "code",
   "execution_count": 42,
   "metadata": {},
   "outputs": [
    {
     "data": {
      "text/plain": [
       "torch.Size([3, 224, 224])"
      ]
     },
     "execution_count": 42,
     "metadata": {},
     "output_type": "execute_result"
    }
   ],
   "source": [
    "dataset[1][0].to(device).shape"
   ]
  },
  {
   "cell_type": "code",
   "execution_count": 36,
   "metadata": {},
   "outputs": [],
   "source": [
    "model.eval()\n",
    "with torch.no_grad():\n",
    "  new_prediction = model(dataset[1][0].to(device))"
   ]
  },
  {
   "cell_type": "code",
   "execution_count": 37,
   "metadata": {},
   "outputs": [
    {
     "data": {
      "text/plain": [
       "1"
      ]
     },
     "execution_count": 37,
     "metadata": {},
     "output_type": "execute_result"
    }
   ],
   "source": [
    "int(new_prediction.argmax().cpu().numpy())"
   ]
  },
  {
   "cell_type": "code",
   "execution_count": 38,
   "metadata": {},
   "outputs": [
    {
     "data": {
      "text/plain": [
       "['1738']"
      ]
     },
     "execution_count": 38,
     "metadata": {},
     "output_type": "execute_result"
    }
   ],
   "source": [
    "def decode_y(y, dct = {enc : label for label, enc in zip(label_set, range(len(label_set)))}):\n",
    "    decs = []\n",
    "    for enc in y:\n",
    "        decs.append(dct[enc])\n",
    "    return  decs\n",
    "\n",
    "decode_y([int(new_prediction.argmax().cpu().numpy())])"
   ]
  },
  {
   "cell_type": "code",
   "execution_count": 40,
   "metadata": {},
   "outputs": [],
   "source": [
    "torch.save(model, \"model.pt\")\n",
    "torch.save(model.state_dict(), \"model_state_dict.pt\")"
   ]
  },
  {
   "cell_type": "code",
   "execution_count": null,
   "metadata": {},
   "outputs": [],
   "source": [
    "model()"
   ]
  }
 ],
 "metadata": {
  "kernelspec": {
   "display_name": "Python 3 (ipykernel)",
   "language": "python",
   "name": "python3"
  },
  "language_info": {
   "codemirror_mode": {
    "name": "ipython",
    "version": 3
   },
   "file_extension": ".py",
   "mimetype": "text/x-python",
   "name": "python",
   "nbconvert_exporter": "python",
   "pygments_lexer": "ipython3",
   "version": "3.9.4"
  }
 },
 "nbformat": 4,
 "nbformat_minor": 4
}
